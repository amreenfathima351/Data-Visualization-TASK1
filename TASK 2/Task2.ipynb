{
 "cells": [
  {
   "cell_type": "code",
   "execution_count": 2,
   "id": "b0a0c5bc",
   "metadata": {},
   "outputs": [],
   "source": [
    "import pandas as pd\n",
    "from sklearn.model_selection import train_test_split\n",
    "from sklearn.linear_model import LinearRegression\n",
    "from sklearn.metrics import mean_squared_error\n",
    "import numpy as np\n",
    "import matplotlib.pyplot as plt \n",
    "import seaborn as sns \n",
    "from sklearn.model_selection import train_test_split\n",
    "from sklearn.linear_model import LinearRegression\n",
    "from sklearn.metrics import mean_squared_error, r2_score,accuracy_score"
   ]
  },
  {
   "cell_type": "code",
   "execution_count": 3,
   "id": "3132e0c3",
   "metadata": {},
   "outputs": [],
   "source": [
    "data=pd.read_csv(\"PlantDisease.csv\")"
   ]
  },
  {
   "cell_type": "code",
   "execution_count": 4,
   "id": "62ba8f7a",
   "metadata": {},
   "outputs": [
    {
     "data": {
      "text/html": [
       "<div>\n",
       "<style scoped>\n",
       "    .dataframe tbody tr th:only-of-type {\n",
       "        vertical-align: middle;\n",
       "    }\n",
       "\n",
       "    .dataframe tbody tr th {\n",
       "        vertical-align: top;\n",
       "    }\n",
       "\n",
       "    .dataframe thead th {\n",
       "        text-align: right;\n",
       "    }\n",
       "</style>\n",
       "<table border=\"1\" class=\"dataframe\">\n",
       "  <thead>\n",
       "    <tr style=\"text-align: right;\">\n",
       "      <th></th>\n",
       "      <th>Anthracnose</th>\n",
       "      <th>algal leaf</th>\n",
       "      <th>bird eye spot</th>\n",
       "      <th>brown blight</th>\n",
       "      <th>gray light</th>\n",
       "      <th>red leaf spot</th>\n",
       "      <th>white spot</th>\n",
       "      <th>healthy</th>\n",
       "    </tr>\n",
       "  </thead>\n",
       "  <tbody>\n",
       "    <tr>\n",
       "      <th>0</th>\n",
       "      <td>1</td>\n",
       "      <td>1</td>\n",
       "      <td>1</td>\n",
       "      <td>0</td>\n",
       "      <td>0</td>\n",
       "      <td>0</td>\n",
       "      <td>0</td>\n",
       "      <td>0</td>\n",
       "    </tr>\n",
       "    <tr>\n",
       "      <th>1</th>\n",
       "      <td>0</td>\n",
       "      <td>0</td>\n",
       "      <td>0</td>\n",
       "      <td>1</td>\n",
       "      <td>1</td>\n",
       "      <td>0</td>\n",
       "      <td>0</td>\n",
       "      <td>1</td>\n",
       "    </tr>\n",
       "    <tr>\n",
       "      <th>2</th>\n",
       "      <td>0</td>\n",
       "      <td>0</td>\n",
       "      <td>0</td>\n",
       "      <td>0</td>\n",
       "      <td>0</td>\n",
       "      <td>0</td>\n",
       "      <td>1</td>\n",
       "      <td>0</td>\n",
       "    </tr>\n",
       "    <tr>\n",
       "      <th>3</th>\n",
       "      <td>1</td>\n",
       "      <td>0</td>\n",
       "      <td>0</td>\n",
       "      <td>0</td>\n",
       "      <td>0</td>\n",
       "      <td>0</td>\n",
       "      <td>0</td>\n",
       "      <td>0</td>\n",
       "    </tr>\n",
       "    <tr>\n",
       "      <th>4</th>\n",
       "      <td>1</td>\n",
       "      <td>1</td>\n",
       "      <td>0</td>\n",
       "      <td>0</td>\n",
       "      <td>0</td>\n",
       "      <td>0</td>\n",
       "      <td>1</td>\n",
       "      <td>0</td>\n",
       "    </tr>\n",
       "  </tbody>\n",
       "</table>\n",
       "</div>"
      ],
      "text/plain": [
       "   Anthracnose  algal leaf  bird eye spot  brown blight  gray light  \\\n",
       "0            1           1              1             0           0   \n",
       "1            0           0              0             1           1   \n",
       "2            0           0              0             0           0   \n",
       "3            1           0              0             0           0   \n",
       "4            1           1              0             0           0   \n",
       "\n",
       "   red leaf spot  white spot  healthy  \n",
       "0              0           0        0  \n",
       "1              0           0        1  \n",
       "2              0           1        0  \n",
       "3              0           0        0  \n",
       "4              0           1        0  "
      ]
     },
     "execution_count": 4,
     "metadata": {},
     "output_type": "execute_result"
    }
   ],
   "source": [
    "data.head()"
   ]
  },
  {
   "cell_type": "code",
   "execution_count": 5,
   "id": "dd41497d",
   "metadata": {},
   "outputs": [
    {
     "name": "stdout",
     "output_type": "stream",
     "text": [
      "<class 'pandas.core.frame.DataFrame'>\n",
      "RangeIndex: 42 entries, 0 to 41\n",
      "Data columns (total 8 columns):\n",
      " #   Column         Non-Null Count  Dtype\n",
      "---  ------         --------------  -----\n",
      " 0   Anthracnose    42 non-null     int64\n",
      " 1   algal leaf     42 non-null     int64\n",
      " 2   bird eye spot  42 non-null     int64\n",
      " 3   brown blight   42 non-null     int64\n",
      " 4   gray light     42 non-null     int64\n",
      " 5   red leaf spot  42 non-null     int64\n",
      " 6   white spot     42 non-null     int64\n",
      " 7   healthy        42 non-null     int64\n",
      "dtypes: int64(8)\n",
      "memory usage: 2.8 KB\n"
     ]
    }
   ],
   "source": [
    "data.info()"
   ]
  },
  {
   "cell_type": "code",
   "execution_count": 6,
   "id": "80707fb8",
   "metadata": {},
   "outputs": [
    {
     "data": {
      "text/plain": [
       "(42, 8)"
      ]
     },
     "execution_count": 6,
     "metadata": {},
     "output_type": "execute_result"
    }
   ],
   "source": [
    "data.shape"
   ]
  },
  {
   "cell_type": "code",
   "execution_count": 7,
   "id": "49c72280",
   "metadata": {},
   "outputs": [
    {
     "data": {
      "text/plain": [
       "<bound method NDFrame.describe of     Anthracnose  algal leaf  bird eye spot  brown blight  gray light  \\\n",
       "0             1           1              1             0           0   \n",
       "1             0           0              0             1           1   \n",
       "2             0           0              0             0           0   \n",
       "3             1           0              0             0           0   \n",
       "4             1           1              0             0           0   \n",
       "5             0           0              0             0           0   \n",
       "6             0           0              0             0           0   \n",
       "7             0           0              0             0           0   \n",
       "8             0           0              0             0           0   \n",
       "9             0           0              0             0           0   \n",
       "10            0           0              0             0           0   \n",
       "11            0           0              0             0           0   \n",
       "12            0           0              0             0           0   \n",
       "13            0           0              0             0           0   \n",
       "14            1           0              0             0           0   \n",
       "15            0           0              0             0           0   \n",
       "16            1           1              0             0           0   \n",
       "17            0           1              0             0           0   \n",
       "18            0           0              0             0           0   \n",
       "19            0           0              0             0           0   \n",
       "20            1           0              0             0           0   \n",
       "21            0           0              0             0           0   \n",
       "22            0           0              0             0           0   \n",
       "23            0           0              0             0           0   \n",
       "24            0           0              0             0           0   \n",
       "25            0           0              0             0           0   \n",
       "26            0           0              0             1           0   \n",
       "27            0           0              0             0           0   \n",
       "28            0           0              0             0           0   \n",
       "29            0           0              0             0           0   \n",
       "30            0           0              0             0           0   \n",
       "31            0           0              0             0           0   \n",
       "32            0           0              0             0           0   \n",
       "33            0           0              0             0           0   \n",
       "34            0           0              0             0           0   \n",
       "35            0           0              0             0           0   \n",
       "36            0           0              0             0           0   \n",
       "37            0           1              0             0           0   \n",
       "38            0           0              0             0           0   \n",
       "39            0           1              0             0           0   \n",
       "40            0           1              0             0           0   \n",
       "41            1           1              0             0           0   \n",
       "\n",
       "    red leaf spot  white spot  healthy  \n",
       "0               0           0        0  \n",
       "1               0           0        1  \n",
       "2               0           1        0  \n",
       "3               0           0        0  \n",
       "4               0           1        0  \n",
       "5               0           0        0  \n",
       "6               0           0        0  \n",
       "7               0           0        0  \n",
       "8               0           0        0  \n",
       "9               0           0        0  \n",
       "10              0           0        0  \n",
       "11              0           0        0  \n",
       "12              0           0        0  \n",
       "13              0           0        0  \n",
       "14              0           0        0  \n",
       "15              0           0        1  \n",
       "16              0           0        0  \n",
       "17              1           0        1  \n",
       "18              0           0        1  \n",
       "19              1           0        0  \n",
       "20              0           0        0  \n",
       "21              0           0        0  \n",
       "22              1           0        0  \n",
       "23              1           0        0  \n",
       "24              0           0        0  \n",
       "25              0           0        1  \n",
       "26              0           0        1  \n",
       "27              0           0        1  \n",
       "28              0           0        0  \n",
       "29              0           0        0  \n",
       "30              0           0        0  \n",
       "31              0           0        0  \n",
       "32              0           0        0  \n",
       "33              0           0        0  \n",
       "34              1           0        0  \n",
       "35              0           0        0  \n",
       "36              0           0        0  \n",
       "37              0           0        0  \n",
       "38              0           0        0  \n",
       "39              1           0        0  \n",
       "40              0           0        0  \n",
       "41              0           0        0  >"
      ]
     },
     "execution_count": 7,
     "metadata": {},
     "output_type": "execute_result"
    }
   ],
   "source": [
    "data.describe"
   ]
  },
  {
   "cell_type": "code",
   "execution_count": 8,
   "id": "b8e4bf00",
   "metadata": {},
   "outputs": [
    {
     "data": {
      "text/html": [
       "<div>\n",
       "<style scoped>\n",
       "    .dataframe tbody tr th:only-of-type {\n",
       "        vertical-align: middle;\n",
       "    }\n",
       "\n",
       "    .dataframe tbody tr th {\n",
       "        vertical-align: top;\n",
       "    }\n",
       "\n",
       "    .dataframe thead th {\n",
       "        text-align: right;\n",
       "    }\n",
       "</style>\n",
       "<table border=\"1\" class=\"dataframe\">\n",
       "  <thead>\n",
       "    <tr style=\"text-align: right;\">\n",
       "      <th></th>\n",
       "      <th>Anthracnose</th>\n",
       "      <th>algal leaf</th>\n",
       "      <th>bird eye spot</th>\n",
       "      <th>brown blight</th>\n",
       "      <th>gray light</th>\n",
       "      <th>red leaf spot</th>\n",
       "      <th>white spot</th>\n",
       "      <th>healthy</th>\n",
       "    </tr>\n",
       "  </thead>\n",
       "  <tbody>\n",
       "    <tr>\n",
       "      <th>Anthracnose</th>\n",
       "      <td>1.000000</td>\n",
       "      <td>0.433861</td>\n",
       "      <td>0.349215</td>\n",
       "      <td>-0.100000</td>\n",
       "      <td>-0.069843</td>\n",
       "      <td>-1.825742e-01</td>\n",
       "      <td>0.200000</td>\n",
       "      <td>-2.000000e-01</td>\n",
       "    </tr>\n",
       "    <tr>\n",
       "      <th>algal leaf</th>\n",
       "      <td>0.433861</td>\n",
       "      <td>1.000000</td>\n",
       "      <td>0.321960</td>\n",
       "      <td>-0.108465</td>\n",
       "      <td>-0.075755</td>\n",
       "      <td>1.485221e-01</td>\n",
       "      <td>0.176256</td>\n",
       "      <td>-5.423261e-02</td>\n",
       "    </tr>\n",
       "    <tr>\n",
       "      <th>bird eye spot</th>\n",
       "      <td>0.349215</td>\n",
       "      <td>0.321960</td>\n",
       "      <td>1.000000</td>\n",
       "      <td>-0.034922</td>\n",
       "      <td>-0.024390</td>\n",
       "      <td>-6.375767e-02</td>\n",
       "      <td>-0.034922</td>\n",
       "      <td>-6.984303e-02</td>\n",
       "    </tr>\n",
       "    <tr>\n",
       "      <th>brown blight</th>\n",
       "      <td>-0.100000</td>\n",
       "      <td>-0.108465</td>\n",
       "      <td>-0.034922</td>\n",
       "      <td>1.000000</td>\n",
       "      <td>0.698430</td>\n",
       "      <td>-9.128709e-02</td>\n",
       "      <td>-0.050000</td>\n",
       "      <td>5.000000e-01</td>\n",
       "    </tr>\n",
       "    <tr>\n",
       "      <th>gray light</th>\n",
       "      <td>-0.069843</td>\n",
       "      <td>-0.075755</td>\n",
       "      <td>-0.024390</td>\n",
       "      <td>0.698430</td>\n",
       "      <td>1.000000</td>\n",
       "      <td>-6.375767e-02</td>\n",
       "      <td>-0.034922</td>\n",
       "      <td>3.492151e-01</td>\n",
       "    </tr>\n",
       "    <tr>\n",
       "      <th>red leaf spot</th>\n",
       "      <td>-0.182574</td>\n",
       "      <td>0.148522</td>\n",
       "      <td>-0.063758</td>\n",
       "      <td>-0.091287</td>\n",
       "      <td>-0.063758</td>\n",
       "      <td>1.000000e+00</td>\n",
       "      <td>-0.091287</td>\n",
       "      <td>8.868040e-18</td>\n",
       "    </tr>\n",
       "    <tr>\n",
       "      <th>white spot</th>\n",
       "      <td>0.200000</td>\n",
       "      <td>0.176256</td>\n",
       "      <td>-0.034922</td>\n",
       "      <td>-0.050000</td>\n",
       "      <td>-0.034922</td>\n",
       "      <td>-9.128709e-02</td>\n",
       "      <td>1.000000</td>\n",
       "      <td>-1.000000e-01</td>\n",
       "    </tr>\n",
       "    <tr>\n",
       "      <th>healthy</th>\n",
       "      <td>-0.200000</td>\n",
       "      <td>-0.054233</td>\n",
       "      <td>-0.069843</td>\n",
       "      <td>0.500000</td>\n",
       "      <td>0.349215</td>\n",
       "      <td>8.868040e-18</td>\n",
       "      <td>-0.100000</td>\n",
       "      <td>1.000000e+00</td>\n",
       "    </tr>\n",
       "  </tbody>\n",
       "</table>\n",
       "</div>"
      ],
      "text/plain": [
       "               Anthracnose  algal leaf  bird eye spot  brown blight  \\\n",
       "Anthracnose       1.000000    0.433861       0.349215     -0.100000   \n",
       "algal leaf        0.433861    1.000000       0.321960     -0.108465   \n",
       "bird eye spot     0.349215    0.321960       1.000000     -0.034922   \n",
       "brown blight     -0.100000   -0.108465      -0.034922      1.000000   \n",
       "gray light       -0.069843   -0.075755      -0.024390      0.698430   \n",
       "red leaf spot    -0.182574    0.148522      -0.063758     -0.091287   \n",
       "white spot        0.200000    0.176256      -0.034922     -0.050000   \n",
       "healthy          -0.200000   -0.054233      -0.069843      0.500000   \n",
       "\n",
       "               gray light  red leaf spot  white spot       healthy  \n",
       "Anthracnose     -0.069843  -1.825742e-01    0.200000 -2.000000e-01  \n",
       "algal leaf      -0.075755   1.485221e-01    0.176256 -5.423261e-02  \n",
       "bird eye spot   -0.024390  -6.375767e-02   -0.034922 -6.984303e-02  \n",
       "brown blight     0.698430  -9.128709e-02   -0.050000  5.000000e-01  \n",
       "gray light       1.000000  -6.375767e-02   -0.034922  3.492151e-01  \n",
       "red leaf spot   -0.063758   1.000000e+00   -0.091287  8.868040e-18  \n",
       "white spot      -0.034922  -9.128709e-02    1.000000 -1.000000e-01  \n",
       "healthy          0.349215   8.868040e-18   -0.100000  1.000000e+00  "
      ]
     },
     "execution_count": 8,
     "metadata": {},
     "output_type": "execute_result"
    }
   ],
   "source": [
    "data.corr()"
   ]
  },
  {
   "cell_type": "code",
   "execution_count": 10,
   "id": "8195e728",
   "metadata": {},
   "outputs": [],
   "source": [
    "features=data.drop('healthy',axis=1)\n",
    "labels=data['healthy']"
   ]
  },
  {
   "cell_type": "code",
   "execution_count": 11,
   "id": "29f00206",
   "metadata": {},
   "outputs": [],
   "source": [
    "X_train,X_test,y_train,y_test=train_test_split(features,labels,test_size=0.2,random_state=100)"
   ]
  },
  {
   "cell_type": "code",
   "execution_count": 12,
   "id": "5ebabf96",
   "metadata": {},
   "outputs": [],
   "source": [
    "regressor=LinearRegression()"
   ]
  },
  {
   "cell_type": "code",
   "execution_count": 13,
   "id": "4d5c9d87",
   "metadata": {},
   "outputs": [
    {
     "data": {
      "text/html": [
       "<style>#sk-container-id-1 {color: black;background-color: white;}#sk-container-id-1 pre{padding: 0;}#sk-container-id-1 div.sk-toggleable {background-color: white;}#sk-container-id-1 label.sk-toggleable__label {cursor: pointer;display: block;width: 100%;margin-bottom: 0;padding: 0.3em;box-sizing: border-box;text-align: center;}#sk-container-id-1 label.sk-toggleable__label-arrow:before {content: \"▸\";float: left;margin-right: 0.25em;color: #696969;}#sk-container-id-1 label.sk-toggleable__label-arrow:hover:before {color: black;}#sk-container-id-1 div.sk-estimator:hover label.sk-toggleable__label-arrow:before {color: black;}#sk-container-id-1 div.sk-toggleable__content {max-height: 0;max-width: 0;overflow: hidden;text-align: left;background-color: #f0f8ff;}#sk-container-id-1 div.sk-toggleable__content pre {margin: 0.2em;color: black;border-radius: 0.25em;background-color: #f0f8ff;}#sk-container-id-1 input.sk-toggleable__control:checked~div.sk-toggleable__content {max-height: 200px;max-width: 100%;overflow: auto;}#sk-container-id-1 input.sk-toggleable__control:checked~label.sk-toggleable__label-arrow:before {content: \"▾\";}#sk-container-id-1 div.sk-estimator input.sk-toggleable__control:checked~label.sk-toggleable__label {background-color: #d4ebff;}#sk-container-id-1 div.sk-label input.sk-toggleable__control:checked~label.sk-toggleable__label {background-color: #d4ebff;}#sk-container-id-1 input.sk-hidden--visually {border: 0;clip: rect(1px 1px 1px 1px);clip: rect(1px, 1px, 1px, 1px);height: 1px;margin: -1px;overflow: hidden;padding: 0;position: absolute;width: 1px;}#sk-container-id-1 div.sk-estimator {font-family: monospace;background-color: #f0f8ff;border: 1px dotted black;border-radius: 0.25em;box-sizing: border-box;margin-bottom: 0.5em;}#sk-container-id-1 div.sk-estimator:hover {background-color: #d4ebff;}#sk-container-id-1 div.sk-parallel-item::after {content: \"\";width: 100%;border-bottom: 1px solid gray;flex-grow: 1;}#sk-container-id-1 div.sk-label:hover label.sk-toggleable__label {background-color: #d4ebff;}#sk-container-id-1 div.sk-serial::before {content: \"\";position: absolute;border-left: 1px solid gray;box-sizing: border-box;top: 0;bottom: 0;left: 50%;z-index: 0;}#sk-container-id-1 div.sk-serial {display: flex;flex-direction: column;align-items: center;background-color: white;padding-right: 0.2em;padding-left: 0.2em;position: relative;}#sk-container-id-1 div.sk-item {position: relative;z-index: 1;}#sk-container-id-1 div.sk-parallel {display: flex;align-items: stretch;justify-content: center;background-color: white;position: relative;}#sk-container-id-1 div.sk-item::before, #sk-container-id-1 div.sk-parallel-item::before {content: \"\";position: absolute;border-left: 1px solid gray;box-sizing: border-box;top: 0;bottom: 0;left: 50%;z-index: -1;}#sk-container-id-1 div.sk-parallel-item {display: flex;flex-direction: column;z-index: 1;position: relative;background-color: white;}#sk-container-id-1 div.sk-parallel-item:first-child::after {align-self: flex-end;width: 50%;}#sk-container-id-1 div.sk-parallel-item:last-child::after {align-self: flex-start;width: 50%;}#sk-container-id-1 div.sk-parallel-item:only-child::after {width: 0;}#sk-container-id-1 div.sk-dashed-wrapped {border: 1px dashed gray;margin: 0 0.4em 0.5em 0.4em;box-sizing: border-box;padding-bottom: 0.4em;background-color: white;}#sk-container-id-1 div.sk-label label {font-family: monospace;font-weight: bold;display: inline-block;line-height: 1.2em;}#sk-container-id-1 div.sk-label-container {text-align: center;}#sk-container-id-1 div.sk-container {/* jupyter's `normalize.less` sets `[hidden] { display: none; }` but bootstrap.min.css set `[hidden] { display: none !important; }` so we also need the `!important` here to be able to override the default hidden behavior on the sphinx rendered scikit-learn.org. See: https://github.com/scikit-learn/scikit-learn/issues/21755 */display: inline-block !important;position: relative;}#sk-container-id-1 div.sk-text-repr-fallback {display: none;}</style><div id=\"sk-container-id-1\" class=\"sk-top-container\"><div class=\"sk-text-repr-fallback\"><pre>LinearRegression()</pre><b>In a Jupyter environment, please rerun this cell to show the HTML representation or trust the notebook. <br />On GitHub, the HTML representation is unable to render, please try loading this page with nbviewer.org.</b></div><div class=\"sk-container\" hidden><div class=\"sk-item\"><div class=\"sk-estimator sk-toggleable\"><input class=\"sk-toggleable__control sk-hidden--visually\" id=\"sk-estimator-id-1\" type=\"checkbox\" checked><label for=\"sk-estimator-id-1\" class=\"sk-toggleable__label sk-toggleable__label-arrow\">LinearRegression</label><div class=\"sk-toggleable__content\"><pre>LinearRegression()</pre></div></div></div></div></div>"
      ],
      "text/plain": [
       "LinearRegression()"
      ]
     },
     "execution_count": 13,
     "metadata": {},
     "output_type": "execute_result"
    }
   ],
   "source": [
    "regressor.fit(X_train,y_train)"
   ]
  },
  {
   "cell_type": "code",
   "execution_count": 14,
   "id": "b2c083f3",
   "metadata": {},
   "outputs": [],
   "source": [
    "y_pred=regressor.predict(X_test)"
   ]
  },
  {
   "cell_type": "code",
   "execution_count": 15,
   "id": "e899b576",
   "metadata": {},
   "outputs": [],
   "source": [
    "mse=mean_squared_error(y_test,y_pred)"
   ]
  },
  {
   "cell_type": "code",
   "execution_count": 16,
   "id": "800e8db4",
   "metadata": {},
   "outputs": [],
   "source": [
    "r2=r2_score(y_test,y_pred)"
   ]
  },
  {
   "cell_type": "code",
   "execution_count": 18,
   "id": "97f76f29",
   "metadata": {
    "scrolled": true
   },
   "outputs": [
    {
     "name": "stdout",
     "output_type": "stream",
     "text": [
      "    Anthracnose  algal leaf  bird eye spot  brown blight  gray light  \\\n",
      "36            0           0              0             0           0   \n",
      "18            0           0              0             0           0   \n",
      "7             0           0              0             0           0   \n",
      "39            0           1              0             0           0   \n",
      "32            0           0              0             0           0   \n",
      "25            0           0              0             0           0   \n",
      "28            0           0              0             0           0   \n",
      "19            0           0              0             0           0   \n",
      "13            0           0              0             0           0   \n",
      "1             0           0              0             1           1   \n",
      "26            0           0              0             1           0   \n",
      "12            0           0              0             0           0   \n",
      "31            0           0              0             0           0   \n",
      "22            0           0              0             0           0   \n",
      "9             0           0              0             0           0   \n",
      "29            0           0              0             0           0   \n",
      "11            0           0              0             0           0   \n",
      "4             1           1              0             0           0   \n",
      "37            0           1              0             0           0   \n",
      "40            0           1              0             0           0   \n",
      "16            1           1              0             0           0   \n",
      "17            0           1              0             0           0   \n",
      "33            0           0              0             0           0   \n",
      "14            1           0              0             0           0   \n",
      "2             0           0              0             0           0   \n",
      "34            0           0              0             0           0   \n",
      "30            0           0              0             0           0   \n",
      "10            0           0              0             0           0   \n",
      "15            0           0              0             0           0   \n",
      "23            0           0              0             0           0   \n",
      "3             1           0              0             0           0   \n",
      "24            0           0              0             0           0   \n",
      "8             0           0              0             0           0   \n",
      "\n",
      "    red leaf spot  white spot  \n",
      "36              0           0  \n",
      "18              0           0  \n",
      "7               0           0  \n",
      "39              1           0  \n",
      "32              0           0  \n",
      "25              0           0  \n",
      "28              0           0  \n",
      "19              1           0  \n",
      "13              0           0  \n",
      "1               0           0  \n",
      "26              0           0  \n",
      "12              0           0  \n",
      "31              0           0  \n",
      "22              1           0  \n",
      "9               0           0  \n",
      "29              0           0  \n",
      "11              0           0  \n",
      "4               0           1  \n",
      "37              0           0  \n",
      "40              0           0  \n",
      "16              0           0  \n",
      "17              1           0  \n",
      "33              0           0  \n",
      "14              0           0  \n",
      "2               0           1  \n",
      "34              1           0  \n",
      "30              0           0  \n",
      "10              0           0  \n",
      "15              0           0  \n",
      "23              1           0  \n",
      "3               0           0  \n",
      "24              0           0  \n",
      "8               0           0  \n"
     ]
    }
   ],
   "source": [
    "print(X_train)"
   ]
  },
  {
   "cell_type": "code",
   "execution_count": 19,
   "id": "c41f7c5e",
   "metadata": {},
   "outputs": [
    {
     "name": "stdout",
     "output_type": "stream",
     "text": [
      "    Anthracnose  algal leaf  bird eye spot  brown blight  gray light  \\\n",
      "27            0           0              0             0           0   \n",
      "5             0           0              0             0           0   \n",
      "6             0           0              0             0           0   \n",
      "38            0           0              0             0           0   \n",
      "21            0           0              0             0           0   \n",
      "0             1           1              1             0           0   \n",
      "20            1           0              0             0           0   \n",
      "41            1           1              0             0           0   \n",
      "35            0           0              0             0           0   \n",
      "\n",
      "    red leaf spot  white spot  \n",
      "27              0           0  \n",
      "5               0           0  \n",
      "6               0           0  \n",
      "38              0           0  \n",
      "21              0           0  \n",
      "0               0           0  \n",
      "20              0           0  \n",
      "41              0           0  \n",
      "35              0           0  \n"
     ]
    }
   ],
   "source": [
    "print(X_test)"
   ]
  },
  {
   "cell_type": "code",
   "execution_count": 20,
   "id": "03ca0611",
   "metadata": {},
   "outputs": [
    {
     "name": "stdout",
     "output_type": "stream",
     "text": [
      "36    0\n",
      "18    1\n",
      "7     0\n",
      "39    0\n",
      "32    0\n",
      "25    1\n",
      "28    0\n",
      "19    0\n",
      "13    0\n",
      "1     1\n",
      "26    1\n",
      "12    0\n",
      "31    0\n",
      "22    0\n",
      "9     0\n",
      "29    0\n",
      "11    0\n",
      "4     0\n",
      "37    0\n",
      "40    0\n",
      "16    0\n",
      "17    1\n",
      "33    0\n",
      "14    0\n",
      "2     0\n",
      "34    0\n",
      "30    0\n",
      "10    0\n",
      "15    1\n",
      "23    0\n",
      "3     0\n",
      "24    0\n",
      "8     0\n",
      "Name: healthy, dtype: int64\n"
     ]
    }
   ],
   "source": [
    "print(y_train)"
   ]
  },
  {
   "cell_type": "code",
   "execution_count": 21,
   "id": "2bd58894",
   "metadata": {},
   "outputs": [
    {
     "name": "stdout",
     "output_type": "stream",
     "text": [
      "27    1\n",
      "5     0\n",
      "6     0\n",
      "38    0\n",
      "21    0\n",
      "0     0\n",
      "20    0\n",
      "41    0\n",
      "35    0\n",
      "Name: healthy, dtype: int64\n"
     ]
    }
   ],
   "source": [
    "print(y_test)"
   ]
  },
  {
   "cell_type": "code",
   "execution_count": 22,
   "id": "f361c906",
   "metadata": {},
   "outputs": [
    {
     "name": "stdout",
     "output_type": "stream",
     "text": [
      "Mean Squared Error:0.09455985828254297\n"
     ]
    }
   ],
   "source": [
    "print(f\"Mean Squared Error:{mse}\")"
   ]
  },
  {
   "cell_type": "code",
   "execution_count": 23,
   "id": "bc5f7133",
   "metadata": {},
   "outputs": [
    {
     "name": "stdout",
     "output_type": "stream",
     "text": [
      "R-squared score:0.04258143488925237\n"
     ]
    }
   ],
   "source": [
    "print(f\"R-squared score:{r2}\")"
   ]
  },
  {
   "cell_type": "code",
   "execution_count": 33,
   "id": "e922920b",
   "metadata": {},
   "outputs": [
    {
     "name": "stdout",
     "output_type": "stream",
     "text": [
      "[ 0.13824885  0.13824885  0.13824885  0.13824885  0.13824885  0.07834101\n",
      " -0.02419355  0.07834101  0.13824885]\n"
     ]
    }
   ],
   "source": [
    "print(y_pred)"
   ]
  },
  {
   "cell_type": "code",
   "execution_count": 72,
   "id": "1f5523ff",
   "metadata": {},
   "outputs": [],
   "source": [
    "new=[[0,0,1,1,0,1,1]]"
   ]
  },
  {
   "cell_type": "code",
   "execution_count": 76,
   "id": "86b290c9",
   "metadata": {},
   "outputs": [
    {
     "name": "stderr",
     "output_type": "stream",
     "text": [
      "C:\\ProgramData\\anaconda3\\Lib\\site-packages\\sklearn\\base.py:439: UserWarning: X does not have valid feature names, but LinearRegression was fitted with feature names\n",
      "  warnings.warn(\n"
     ]
    }
   ],
   "source": [
    "predicted= regressor.predict(new)"
   ]
  },
  {
   "cell_type": "code",
   "execution_count": 77,
   "id": "a3e5cff7",
   "metadata": {},
   "outputs": [
    {
     "name": "stdout",
     "output_type": "stream",
     "text": [
      "Prediction: [0.8859447]\n"
     ]
    }
   ],
   "source": [
    "print(f\"Prediction: {predicted}\")"
   ]
  }
 ],
 "metadata": {
  "kernelspec": {
   "display_name": "Python 3 (ipykernel)",
   "language": "python",
   "name": "python3"
  },
  "language_info": {
   "codemirror_mode": {
    "name": "ipython",
    "version": 3
   },
   "file_extension": ".py",
   "mimetype": "text/x-python",
   "name": "python",
   "nbconvert_exporter": "python",
   "pygments_lexer": "ipython3",
   "version": "3.11.3"
  }
 },
 "nbformat": 4,
 "nbformat_minor": 5
}
